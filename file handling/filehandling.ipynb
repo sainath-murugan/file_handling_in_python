{
 "metadata": {
  "language_info": {
   "codemirror_mode": {
    "name": "ipython",
    "version": 3
   },
   "file_extension": ".py",
   "mimetype": "text/x-python",
   "name": "python",
   "nbconvert_exporter": "python",
   "pygments_lexer": "ipython3",
   "version": "3.7.3-final"
  },
  "orig_nbformat": 2,
  "kernelspec": {
   "name": "python3",
   "display_name": "Python 3.7.3 32-bit",
   "metadata": {
    "interpreter": {
     "hash": "fc448ef6dae8a05a350cc5fc0870146d67a872f0b4ea0d6dc544f8addbb45ad4"
    }
   }
  }
 },
 "nbformat": 4,
 "nbformat_minor": 2,
 "cells": [
  {
   "source": [
    "# FILE HANDLING"
   ],
   "cell_type": "markdown",
   "metadata": {}
  },
  {
   "source": [
    "# THERE ARE FOUR TYPES OF OPERATION WE CAN PERFORM IN FILE HANDLING\n",
    "# a- APPENDING\n",
    "# w - WRITING\n",
    "# r - READING\n",
    "# r+ - both reading and writing\n"
   ],
   "cell_type": "markdown",
   "metadata": {}
  },
  {
   "source": [
    "# if file is not created it automaticaaly creates the file while running the program in (py) file"
   ],
   "cell_type": "markdown",
   "metadata": {}
  },
  {
   "cell_type": "code",
   "execution_count": 3,
   "metadata": {},
   "outputs": [
    {
     "output_type": "stream",
     "name": "stdout",
     "text": [
      "demo.txt\nr\n"
     ]
    },
    {
     "output_type": "execute_result",
     "data": {
      "text/plain": [
       "<function TextIOWrapper.close()>"
      ]
     },
     "metadata": {},
     "execution_count": 3
    }
   ],
   "source": [
    "file = open(\"demo.txt\",\"r\")\n",
    "print(file.name)\n",
    "print(file.mode)\n",
    "file.close"
   ]
  },
  {
   "cell_type": "code",
   "execution_count": 24,
   "metadata": {},
   "outputs": [
    {
     "output_type": "stream",
     "name": "stdout",
     "text": [
      "it is closed\n"
     ]
    }
   ],
   "source": [
    "# if a file is opened it should be closed , so we can use with key word it automatically close the file..\n",
    "with open(\"demo.txt\", \"r\") as file:\n",
    "    pass\n",
    "if file.closed == True:\n",
    "      print(\"it is closed\")"
   ]
  },
  {
   "cell_type": "code",
   "execution_count": 25,
   "metadata": {},
   "outputs": [
    {
     "output_type": "stream",
     "name": "stdout",
     "text": [
      "I/O operation on closed file.\n"
     ]
    }
   ],
   "source": [
    "# if the file is closed we want to open the file again\n",
    "with open(\"demo.txt\", \"r\") as file:\n",
    "    pass\n",
    "try: \n",
    "    file.readlines()\n",
    "except BaseException as e:\n",
    "    print(e)"
   ]
  },
  {
   "cell_type": "code",
   "execution_count": 26,
   "metadata": {},
   "outputs": [
    {
     "output_type": "stream",
     "name": "stdout",
     "text": [
      "['my name is sainath\\n', 'myself a web developer\\n', 'python programmer\\n']\n"
     ]
    }
   ],
   "source": [
    "with open(\"demo.txt\", \"r\") as file:\n",
    "    print(file.readlines()) #\\n indicates the ending of one line and next line starts"
   ]
  },
  {
   "cell_type": "code",
   "execution_count": 28,
   "metadata": {},
   "outputs": [
    {
     "output_type": "stream",
     "name": "stdout",
     "text": [
      "my name is sainath\nmyself a web developer\npython programmer\n\n"
     ]
    }
   ],
   "source": [
    "with open(\"demo.txt\", \"r\") as file:\n",
    "    print(file.read())"
   ]
  },
  {
   "cell_type": "code",
   "execution_count": 38,
   "metadata": {},
   "outputs": [
    {
     "output_type": "stream",
     "name": "stdout",
     "text": [
      "my name is sainath\n20\nmyself a web developer\n44\npython programmer\n63\n"
     ]
    }
   ],
   "source": [
    "with open(\"demo.txt\", \"r\") as file:\n",
    "    print(file.readline(), end=\"\") #the new line is considered as one character to avoid it use end keyword\n",
    "    print(file.tell()) # it showes cursor in which character \n",
    "    print(file.readline(), end=\"\")\n",
    "    print(file.tell())\n",
    "    print(file.readline(), end=\"\")\n",
    "    print(file.tell())"
   ]
  },
  {
   "cell_type": "code",
   "execution_count": 40,
   "metadata": {},
   "outputs": [
    {
     "output_type": "stream",
     "name": "stdout",
     "text": [
      "my name is sainath\nmyself a web developer\npython programmer\n"
     ]
    }
   ],
   "source": [
    "with open(\"demo.txt\", \"r\") as file:\n",
    "    for items in file:\n",
    "        print(items, end=\"\")"
   ]
  },
  {
   "cell_type": "code",
   "execution_count": 48,
   "metadata": {},
   "outputs": [
    {
     "output_type": "stream",
     "name": "stdout",
     "text": [
      "my name is sainath\n"
     ]
    }
   ],
   "source": [
    "with open(\"demo.txt\", \"r\") as file:\n",
    "    print(file.read(18)) # it is used to print, how many character the user wants"
   ]
  },
  {
   "cell_type": "code",
   "execution_count": 49,
   "metadata": {},
   "outputs": [
    {
     "output_type": "stream",
     "name": "stdout",
     "text": [
      "my name is sainath\n"
     ]
    }
   ],
   "source": [
    "with open(\"demo.txt\", \"r\") as file:\n",
    "    print(file.read(18))\n",
    "    file.seek(0) # it is used to move the curser to the point, the user wants "
   ]
  },
  {
   "cell_type": "code",
   "execution_count": 50,
   "metadata": {},
   "outputs": [
    {
     "output_type": "stream",
     "name": "stdout",
     "text": [
      "my name is sainath\nmyself a web developer\npython programmer\n\n0\n"
     ]
    }
   ],
   "source": [
    "with open(\"demo.txt\", \"r\") as file:\n",
    "    print(file.read())\n",
    "    print(len(file.read())) # if all the contents in the file is readed the length will be zero"
   ]
  },
  {
   "cell_type": "code",
   "execution_count": 11,
   "metadata": {},
   "outputs": [
    {
     "output_type": "stream",
     "name": "stdout",
     "text": [
      "my name is  sainath\nmyself a web developer\npython programmer "
     ]
    }
   ],
   "source": [
    "with open(\"demo.txt\",\"r\") as file:\n",
    "    size = 10\n",
    "    f = file.read(size)\n",
    "    while len(f) > 0:\n",
    "        print(f, end=\" \")\n",
    "        f = file.read()\n",
    "        "
   ]
  },
  {
   "cell_type": "code",
   "execution_count": 56,
   "metadata": {},
   "outputs": [],
   "source": [
    " # the ASCII is ok to print the english words but it is not used to read other language. so the utf-8 encoding is used here like HTML\n",
    " with open(\"demo_1.txt\", \"w\", encoding=\"UTF-8\") as file:\n",
    "     file.write(\"人間\")\n"
   ]
  },
  {
   "cell_type": "code",
   "execution_count": 59,
   "metadata": {},
   "outputs": [],
   "source": [
    "# note if we use write mode it will delete the previous content in the file, so use append\n",
    "with open(\"demo_2.txt\", \"a\", encoding=\"UTF-8\") as file:\n",
    "    file.write(\"\\nthis line is written using append function and first line is not deleted\")"
   ]
  },
  {
   "cell_type": "code",
   "execution_count": 64,
   "metadata": {},
   "outputs": [],
   "source": [
    "with open(\"demo_3.txt\",\"r\") as file:\n",
    "    with open(\"demo_4.txt\",\"w\") as file_2:\n",
    "        for line in file:\n",
    "          file_2.write(line)\n",
    "          file_2.write(\"\\nthis above text is copied from demo_3\" )"
   ]
  },
  {
   "cell_type": "code",
   "execution_count": 65,
   "metadata": {},
   "outputs": [],
   "source": [
    "# we can alse do binary operation in filehandling, used to copy photos..\n",
    "with open(\"cat.jpg\",\"br\") as photo_1:\n",
    "    with open(\"cat_1.jpg\",\"bw\") as  photo_2:\n",
    "        for picture in photo_1:\n",
    "            photo_2.write(picture)\n"
   ]
  },
  {
   "cell_type": "code",
   "execution_count": null,
   "metadata": {},
   "outputs": [],
   "source": []
  }
 ]
}